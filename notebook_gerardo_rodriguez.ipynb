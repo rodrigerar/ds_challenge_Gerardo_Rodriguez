{
 "cells": [
  {
   "cell_type": "markdown",
   "id": "622169d8",
   "metadata": {},
   "source": [
    "# Data Science Challenge \n",
    "\n",
    "## From: Gerardo Rodriguez"
   ]
  },
  {
   "cell_type": "markdown",
   "id": "57dfcd51",
   "metadata": {},
   "source": [
    "## Exercise 1"
   ]
  },
  {
   "cell_type": "code",
   "execution_count": 42,
   "id": "c04539f7",
   "metadata": {},
   "outputs": [
    {
     "name": "stdout",
     "output_type": "stream",
     "text": [
      "total 17562272\r\n",
      "-rw-r--r--@ 1 rodrigerar  staff   483188920 Apr 10  2021 searches.csv.bz2\r\n",
      "-rw-r--r--@ 1 rodrigerar  staff  3696229366 Apr 10  2021 searches.csv\r\n",
      "-rw-r--r--@ 1 rodrigerar  staff   554970628 Apr 10  2021 bookings.csv.bz2\r\n",
      "-rw-r--r--  1 rodrigerar  staff          77 Feb  2 15:25 README.md\r\n",
      "-rw-r--r--  1 rodrigerar  staff          72 Feb  2 15:26 Untitled.ipynb\r\n",
      "-rw-r--r--@ 1 rodrigerar  staff  4244874509 Feb  2 15:30 bookings.csv\r\n",
      "-rw-r--r--  1 rodrigerar  staff       22829 Feb  2 16:53 notebook_gerardo_rodriguez.ipynb\r\n"
     ]
    }
   ],
   "source": [
    "!ls -ltr"
   ]
  },
  {
   "cell_type": "code",
   "execution_count": 2,
   "id": "f55dfd39",
   "metadata": {},
   "outputs": [
    {
     "name": "stdout",
     "output_type": "stream",
     "text": [
      "act_date           ^source^pos_ctry^pos_iata^pos_oid  ^rloc          ^cre_date           ^duration^distance^dep_port^dep_city^dep_ctry^arr_port^arr_city^arr_ctry^lst_port^lst_city^lst_ctry^brd_port^brd_city^brd_ctry^off_port^off_city^off_ctry^mkt_port^mkt_city^mkt_ctry^intl^route          ^carrier^bkg_class^cab_class^brd_time           ^off_time           ^pax^year^month^oid      \r\n",
      "2013-03-05 00:00:00^1A    ^DE      ^a68dd7ae953c8acfb187a1af2dcbe123^1a11ae49fcbf545fd2afc1a24d88d2b7^ea65900e72d71f4626378e2ebd298267^2013-02-22 00:00:00^1708^0^ZRH     ^ZRH     ^CH      ^LHR     ^LON     ^GB      ^ZRH     ^ZRH     ^CH      ^LHR     ^LON     ^GB      ^ZRH     ^ZRH     ^CH      ^LHRZRH  ^LONZRH  ^CHGB    ^1^LHRZRH         ^VI^T        ^Y        ^2013-03-07 08:50:00^2013-03-07 11:33:37^-1^2013^3^NULL     \r\n",
      "2013-03-26 00:00:00^1A    ^US      ^e612b9eeeee6f17f42d9b0d3b79e75ca^7437560d8f276d6d05eeb806d9e7edee^737295a86982c941f1c2da9a46a14043^2013-03-26 00:00:00^135270^0^SAL     ^SAL     ^SV      ^CLT     ^CLT     ^US      ^SAL     ^SAL     ^SV      ^SAL     ^SAL     ^SV      ^CLT     ^CLT     ^US      ^CLTSAL  ^CLTSAL  ^SVUS    ^1^SALATLCLT      ^NV^L        ^Y        ^2013-04-12 13:04:00^2013-04-12 22:05:40^1^2013^3^NULL     \r\n",
      "2013-03-26 00:00:00^1A    ^US      ^e612b9eeeee6f17f42d9b0d3b79e75ca^7437560d8f276d6d05eeb806d9e7edee^737295a86982c941f1c2da9a46a14043^2013-03-26 00:00:00^135270^0^SAL     ^SAL     ^SV      ^CLT     ^CLT     ^US      ^SAL     ^SAL     ^SV      ^CLT     ^CLT     ^US      ^SAL     ^SAL     ^SV      ^CLTSAL  ^CLTSAL  ^SVUS    ^1^CLTATLSAL      ^NV^U        ^Y        ^2013-07-15 07:00:00^2013-07-15 11:34:51^1^2013^3^NULL     \r\n",
      "2013-03-26 00:00:00^1A    ^AU      ^0f984b3bb6bd06661c95529bbd6193bc^36472c6dbaf7afec9136ac40364e2794^5ecf00fdcbcec761c43dc7285253d0c1^2013-03-26 00:00:00^30885^0^AKL     ^AKL     ^NZ      ^SVO     ^MOW     ^RU      ^AKL     ^AKL     ^NZ      ^AKL     ^AKL     ^NZ      ^SVO     ^MOW     ^RU      ^AKLSVO  ^AKLMOW  ^NZRU    ^1^AKLHKGSVO      ^XK^G        ^Y        ^2013-04-24 23:59:00^2013-04-25 16:06:31^1^2013^3^SYDA82546\r\n",
      "2013-03-26 00:00:00^1A    ^AU      ^0f984b3bb6bd06661c95529bbd6193bc^36472c6dbaf7afec9136ac40364e2794^5ecf00fdcbcec761c43dc7285253d0c1^2013-03-26 00:00:00^30885^0^AKL     ^AKL     ^NZ      ^SVO     ^MOW     ^RU      ^AKL     ^AKL     ^NZ      ^SVO     ^MOW     ^RU      ^AKL     ^AKL     ^NZ      ^AKLSVO  ^AKLMOW  ^NZRU    ^1^SVOHKGAKL      ^XK^G        ^Y        ^2013-05-14 20:15:00^2013-05-16 10:44:50^1^2013^3^SYDA82546\r\n",
      "2013-03-20 00:00:00^1V    ^US      ^0283592e45e392871f7e14b1e22a9aaf^2d0f8e7e1bb792625d2f34f221bc38f1^d54708298686de200f8270e7c637af5e^2013-03-20 00:00:00^5923^0^DEN     ^DEN     ^US      ^LGA     ^NYC     ^US      ^DEN     ^DEN     ^US      ^DEN     ^DEN     ^US      ^LGA     ^NYC     ^US      ^DENLGA  ^DENNYC  ^USUS    ^0^DENLGA         ^FK^W        ^Y        ^2013-04-07 10:23:00^2013-04-07 16:14:24^1^2013^3^NULL     \r\n",
      "2013-03-20 00:00:00^1V    ^US      ^0283592e45e392871f7e14b1e22a9aaf^2d0f8e7e1bb792625d2f34f221bc38f1^d54708298686de200f8270e7c637af5e^2013-03-20 00:00:00^5923^0^DEN     ^DEN     ^US      ^LGA     ^NYC     ^US      ^DEN     ^DEN     ^US      ^LGA     ^NYC     ^US      ^DEN     ^DEN     ^US      ^DENLGA  ^DENNYC  ^USUS    ^0^LGADEN         ^FK^K        ^Y        ^2013-04-11 11:15:00^2013-04-11 13:06:24^1^2013^3^NULL     \r\n",
      "2013-03-25 00:00:00^1V    ^JP      ^5af045902bd23cab579915611d99e1e0^5073861d8597467c33596bfe16f23c56^a37584d1485cb35991e4ff1a2ba92262^2013-03-25 00:00:00^8371^60^NRT     ^TYO     ^JP      ^SIN     ^SIN     ^SG      ^HND     ^TYO     ^JP      ^NRT     ^TYO     ^JP      ^SIN     ^SIN     ^SG      ^NRTSIN  ^SINTYO  ^JPSG    ^1^NRTSIN         ^XR^Q        ^Y        ^2013-04-14 11:05:00^2013-04-14 17:10:56^2^2013^3^NULL     \r\n",
      "2013-03-25 00:00:00^1V    ^JP      ^5af045902bd23cab579915611d99e1e0^5073861d8597467c33596bfe16f23c56^a37584d1485cb35991e4ff1a2ba92262^2013-03-25 00:00:00^8371^60^NRT     ^TYO     ^JP      ^SIN     ^SIN     ^SG      ^HND     ^TYO     ^JP      ^SIN     ^SIN     ^SG      ^PEN     ^PEN     ^MY      ^PENSIN  ^PENSIN  ^MYSG    ^1^SINPEN         ^WS^Y        ^Y        ^2013-04-16 15:45:00^2013-04-16 17:15:29^2^2013^3^NULL     \r\n"
     ]
    }
   ],
   "source": [
    "! head -10 bookings.csv"
   ]
  },
  {
   "cell_type": "code",
   "execution_count": 3,
   "id": "106a0150",
   "metadata": {},
   "outputs": [
    {
     "name": "stdout",
     "output_type": "stream",
     "text": [
      "2013-05-14 00:00:00^1A    ^IN      ^9e586aade06c70687736accbe5e98737^1032cd50f5b60ddef3e3f3f8e4285972^0fae61de5c249aaa28c2d573b589becf^2013-05-14 00:00:00^4003^2968^POM     ^POM     ^PG      ^MEL     ^MEL     ^AU      ^ADL     ^ADL     ^AU      ^MEL     ^MEL     ^AU      ^ADL     ^ADL     ^AU      ^ADLMEL  ^ADLMEL  ^AUAU    ^0^MELADL         ^GK^V        ^Y        ^2013-07-12 07:10:00^2013-07-12 08:13:15^2^2013^5^DELVS319B\r\n",
      "2013-05-28 00:00:00^1A    ^US      ^000a63dddc771356a09b2df81781d933^dda0cc56cd8e7e238cef9601d4ed7038^1df256f97e81f128fce7397753ce4a4f^2013-05-28 00:00:00^6388^0^MEM     ^MEM     ^US      ^LAS     ^LAS     ^US      ^MEM     ^MEM     ^US      ^MEM     ^MEM     ^US      ^LAS     ^LAS     ^US      ^LASMEM  ^LASMEM  ^USUS    ^0^MEMLAS         ^NV^L        ^Y        ^2013-11-03 08:30:00^2013-11-03 09:58:22^2^2013^5^NULL     \r\n",
      "2013-05-28 00:00:00^1A    ^US      ^000a63dddc771356a09b2df81781d933^dda0cc56cd8e7e238cef9601d4ed7038^1df256f97e81f128fce7397753ce4a4f^2013-05-28 00:00:00^6388^0^MEM     ^MEM     ^US      ^LAS     ^LAS     ^US      ^MEM     ^MEM     ^US      ^LAS     ^LAS     ^US      ^MEM     ^MEM     ^US      ^LASMEM  ^LASMEM  ^USUS    ^0^LASMEM         ^NV^L        ^Y        ^2013-11-07 13:30:00^2013-11-07 18:58:22^2^2013^5^NULL     \r\n",
      "2013-05-14 00:00:00^1A    ^LK      ^1a5585bef21f0bf8dc865a87843635f9^6ff8fd087f94799d7aed903683384775^3b339797f7eca14c24e8b7565da822c0^2013-05-14 00:00:00^13203^0^CMB     ^CMB     ^LK      ^MAA     ^MAA     ^IN      ^CMB     ^CMB     ^LK      ^CMB     ^CMB     ^LK      ^MAA     ^MAA     ^IN      ^CMBMAA  ^CMBMAA  ^INLK    ^1^CMBMAA         ^FV^V        ^Y        ^2013-05-15 13:35:00^2013-05-15 15:08:39^1^2013^5^NULL     \r\n",
      "2013-05-14 00:00:00^1A    ^LK      ^1a5585bef21f0bf8dc865a87843635f9^6ff8fd087f94799d7aed903683384775^3b339797f7eca14c24e8b7565da822c0^2013-05-14 00:00:00^13203^0^CMB     ^CMB     ^LK      ^MAA     ^MAA     ^IN      ^CMB     ^CMB     ^LK      ^MAA     ^MAA     ^IN      ^CMB     ^CMB     ^LK      ^CMBMAA  ^CMBMAA  ^INLK    ^1^MAACMB         ^FV^V        ^Y        ^2013-05-24 16:05:00^2013-05-24 17:38:39^1^2013^5^NULL     \r\n",
      "2013-05-18 00:00:00^1A    ^LK      ^1a5585bef21f0bf8dc865a87843635f9^6ff8fd087f94799d7aed903683384775^3b339797f7eca14c24e8b7565da822c0^2013-05-14 00:00:00^13203^0^CMB     ^CMB     ^LK      ^MAA     ^MAA     ^IN      ^CMB     ^CMB     ^LK      ^MAA     ^MAA     ^IN      ^CMB     ^CMB     ^LK      ^CMBMAA  ^CMBMAA  ^INLK    ^1^MAACMB         ^FV^V        ^Y        ^2013-05-24 16:05:00^2013-05-24 17:38:39^-1^2013^5^NULL     \r\n",
      "2013-05-18 00:00:00^1A    ^LK      ^1a5585bef21f0bf8dc865a87843635f9^6ff8fd087f94799d7aed903683384775^3b339797f7eca14c24e8b7565da822c0^2013-05-14 00:00:00^6003^0^CMB     ^CMB     ^LK      ^MAA     ^MAA     ^IN      ^CMB     ^CMB     ^LK      ^MAA     ^MAA     ^IN      ^CMB     ^CMB     ^LK      ^CMBMAA  ^CMBMAA  ^INLK    ^1^MAACMB         ^FV^V        ^Y        ^2013-05-19 16:05:00^2013-05-19 17:38:39^1^2013^5^NULL     \r\n",
      "2013-05-28 00:00:00^1A    ^US      ^07e98d2fd3cd4b737266b99727f7faa8^e8741eaf2fa2f71f931475d18fa72096^2b22597bdad931843c3b1d5219836e07^2013-05-28 00:00:00^328^1865^AUS     ^AUS     ^US      ^RDU     ^RDU     ^US      ^RDU     ^RDU     ^US      ^AUS     ^AUS     ^US      ^RDU     ^RDU     ^US      ^AUSRDU  ^AUSRDU  ^USUS    ^0^AUSDFWRDU      ^KK^Q        ^Y        ^2013-07-12 08:35:00^2013-07-12 15:03:14^1^2013^5^SEAEX38AA\r\n",
      "2013-05-28 00:00:00^1A    ^FR      ^e2679367673d50f1ee085127d8a00eba^5f26f53ca29672815e0ee3bd93a2b0e4^4eb40315a7263131ae17712cd505b62a^2013-05-28 00:00:00^588^0^TLS     ^TLS     ^FR      ^ORY     ^PAR     ^FR      ^TLS     ^TLS     ^FR      ^TLS     ^TLS     ^FR      ^ORY     ^PAR     ^FR      ^ORYTLS  ^PARTLS  ^FRFR    ^0^TLSORY         ^KP^S        ^Y        ^2013-06-04 10:50:00^2013-06-04 12:18:20^1^2013^5^LYSSR210Z\r\n",
      "2013-05-28 00:00:00^1A    ^FR      ^e2679367673d50f1ee085127d8a00eba^5f26f53ca29672815e0ee3bd93a2b0e4^4eb40315a7263131ae17712cd505b62a^2013-05-28 00:00:00^588^0^TLS     ^TLS     ^FR      ^ORY     ^PAR     ^FR      ^TLS     ^TLS     ^FR      ^ORY     ^PAR     ^FR      ^TLS     ^TLS     ^FR      ^ORYTLS  ^PARTLS  ^FRFR    ^0^ORYTLS         ^KP^S        ^Y        ^2013-06-04 19:10:00^2013-06-04 20:38:20^1^2013^5^LYSSR210Z\r\n"
     ]
    }
   ],
   "source": [
    "!tail -10 bookings.csv"
   ]
  },
  {
   "cell_type": "code",
   "execution_count": 4,
   "id": "788e0a07",
   "metadata": {},
   "outputs": [
    {
     "name": "stdout",
     "output_type": "stream",
     "text": [
      " 10000011\r\n"
     ]
    }
   ],
   "source": [
    "!cat bookings.csv | wc -l"
   ]
  },
  {
   "cell_type": "code",
   "execution_count": 5,
   "id": "7b11756e",
   "metadata": {},
   "outputs": [
    {
     "name": "stdout",
     "output_type": "stream",
     "text": [
      "bzcat: bookings.csv is not a bzip2 file.\r\n",
      "       0\r\n"
     ]
    }
   ],
   "source": [
    "!bzcat bookings.csv | wc -l"
   ]
  },
  {
   "cell_type": "code",
   "execution_count": 21,
   "id": "47c64dfc",
   "metadata": {},
   "outputs": [],
   "source": [
    "import bz2"
   ]
  },
  {
   "cell_type": "code",
   "execution_count": 22,
   "id": "a2740aee",
   "metadata": {},
   "outputs": [],
   "source": [
    "file = 'bookings.csv.bz2'"
   ]
  },
  {
   "cell_type": "code",
   "execution_count": 23,
   "id": "427203b2",
   "metadata": {},
   "outputs": [],
   "source": [
    "booking_file = bz2.open(file, \"r\")"
   ]
  },
  {
   "cell_type": "code",
   "execution_count": 24,
   "id": "85fddc2b",
   "metadata": {},
   "outputs": [
    {
     "name": "stdout",
     "output_type": "stream",
     "text": [
      "<bz2.BZ2File object at 0x7fc1a44a6040>\n"
     ]
    }
   ],
   "source": [
    "print (booking_file)"
   ]
  },
  {
   "cell_type": "code",
   "execution_count": 28,
   "id": "b44f5eea",
   "metadata": {},
   "outputs": [
    {
     "name": "stdout",
     "output_type": "stream",
     "text": [
      "10000011\n"
     ]
    }
   ],
   "source": [
    "# reading a bz2 archive\n",
    "count = 0\n",
    "\n",
    "with bz2.open(file, \"rt\") as bzfin:\n",
    "    for line in bzfin:\n",
    "        count += 1\n",
    "\n",
    "print (count)        "
   ]
  },
  {
   "cell_type": "markdown",
   "id": "79cf72ee",
   "metadata": {},
   "source": [
    "## Exercise 2"
   ]
  },
  {
   "cell_type": "code",
   "execution_count": 2,
   "id": "df344cf5",
   "metadata": {},
   "outputs": [],
   "source": [
    "import pandas as pd"
   ]
  },
  {
   "cell_type": "code",
   "execution_count": 3,
   "id": "685e9bba",
   "metadata": {},
   "outputs": [],
   "source": [
    "file = 'bookings.csv.bz2'"
   ]
  },
  {
   "cell_type": "code",
   "execution_count": 4,
   "id": "0b81e441",
   "metadata": {},
   "outputs": [],
   "source": [
    "df = pd.read_csv (file, nrows=100000, delimiter='^')"
   ]
  },
  {
   "cell_type": "markdown",
   "id": "b02427c2",
   "metadata": {},
   "source": [
    "### Loading data into a Pandas Dataframe:\n",
    "* We found the nrows option in order to read large csv files.\n",
    "* Related with the files compression, Pandas has the compression='infer' option."
   ]
  },
  {
   "cell_type": "code",
   "execution_count": 5,
   "id": "b47d78bd",
   "metadata": {},
   "outputs": [
    {
     "data": {
      "text/html": [
       "<div>\n",
       "<style scoped>\n",
       "    .dataframe tbody tr th:only-of-type {\n",
       "        vertical-align: middle;\n",
       "    }\n",
       "\n",
       "    .dataframe tbody tr th {\n",
       "        vertical-align: top;\n",
       "    }\n",
       "\n",
       "    .dataframe thead th {\n",
       "        text-align: right;\n",
       "    }\n",
       "</style>\n",
       "<table border=\"1\" class=\"dataframe\">\n",
       "  <thead>\n",
       "    <tr style=\"text-align: right;\">\n",
       "      <th></th>\n",
       "      <th>act_date</th>\n",
       "      <th>source</th>\n",
       "      <th>pos_ctry</th>\n",
       "      <th>pos_iata</th>\n",
       "      <th>pos_oid</th>\n",
       "      <th>rloc</th>\n",
       "      <th>cre_date</th>\n",
       "      <th>duration</th>\n",
       "      <th>distance</th>\n",
       "      <th>dep_port</th>\n",
       "      <th>...</th>\n",
       "      <th>route</th>\n",
       "      <th>carrier</th>\n",
       "      <th>bkg_class</th>\n",
       "      <th>cab_class</th>\n",
       "      <th>brd_time</th>\n",
       "      <th>off_time</th>\n",
       "      <th>pax</th>\n",
       "      <th>year</th>\n",
       "      <th>month</th>\n",
       "      <th>oid</th>\n",
       "    </tr>\n",
       "  </thead>\n",
       "  <tbody>\n",
       "    <tr>\n",
       "      <th>0</th>\n",
       "      <td>2013-03-05 00:00:00</td>\n",
       "      <td>1A</td>\n",
       "      <td>DE</td>\n",
       "      <td>a68dd7ae953c8acfb187a1af2dcbe123</td>\n",
       "      <td>1a11ae49fcbf545fd2afc1a24d88d2b7</td>\n",
       "      <td>ea65900e72d71f4626378e2ebd298267</td>\n",
       "      <td>2013-02-22 00:00:00</td>\n",
       "      <td>1708</td>\n",
       "      <td>0</td>\n",
       "      <td>ZRH</td>\n",
       "      <td>...</td>\n",
       "      <td>LHRZRH</td>\n",
       "      <td>VI</td>\n",
       "      <td>T</td>\n",
       "      <td>Y</td>\n",
       "      <td>2013-03-07 08:50:00</td>\n",
       "      <td>2013-03-07 11:33:37</td>\n",
       "      <td>-1</td>\n",
       "      <td>2013</td>\n",
       "      <td>3</td>\n",
       "      <td>NULL</td>\n",
       "    </tr>\n",
       "    <tr>\n",
       "      <th>1</th>\n",
       "      <td>2013-03-26 00:00:00</td>\n",
       "      <td>1A</td>\n",
       "      <td>US</td>\n",
       "      <td>e612b9eeeee6f17f42d9b0d3b79e75ca</td>\n",
       "      <td>7437560d8f276d6d05eeb806d9e7edee</td>\n",
       "      <td>737295a86982c941f1c2da9a46a14043</td>\n",
       "      <td>2013-03-26 00:00:00</td>\n",
       "      <td>135270</td>\n",
       "      <td>0</td>\n",
       "      <td>SAL</td>\n",
       "      <td>...</td>\n",
       "      <td>SALATLCLT</td>\n",
       "      <td>NV</td>\n",
       "      <td>L</td>\n",
       "      <td>Y</td>\n",
       "      <td>2013-04-12 13:04:00</td>\n",
       "      <td>2013-04-12 22:05:40</td>\n",
       "      <td>1</td>\n",
       "      <td>2013</td>\n",
       "      <td>3</td>\n",
       "      <td>NULL</td>\n",
       "    </tr>\n",
       "    <tr>\n",
       "      <th>2</th>\n",
       "      <td>2013-03-26 00:00:00</td>\n",
       "      <td>1A</td>\n",
       "      <td>US</td>\n",
       "      <td>e612b9eeeee6f17f42d9b0d3b79e75ca</td>\n",
       "      <td>7437560d8f276d6d05eeb806d9e7edee</td>\n",
       "      <td>737295a86982c941f1c2da9a46a14043</td>\n",
       "      <td>2013-03-26 00:00:00</td>\n",
       "      <td>135270</td>\n",
       "      <td>0</td>\n",
       "      <td>SAL</td>\n",
       "      <td>...</td>\n",
       "      <td>CLTATLSAL</td>\n",
       "      <td>NV</td>\n",
       "      <td>U</td>\n",
       "      <td>Y</td>\n",
       "      <td>2013-07-15 07:00:00</td>\n",
       "      <td>2013-07-15 11:34:51</td>\n",
       "      <td>1</td>\n",
       "      <td>2013</td>\n",
       "      <td>3</td>\n",
       "      <td>NULL</td>\n",
       "    </tr>\n",
       "    <tr>\n",
       "      <th>3</th>\n",
       "      <td>2013-03-26 00:00:00</td>\n",
       "      <td>1A</td>\n",
       "      <td>AU</td>\n",
       "      <td>0f984b3bb6bd06661c95529bbd6193bc</td>\n",
       "      <td>36472c6dbaf7afec9136ac40364e2794</td>\n",
       "      <td>5ecf00fdcbcec761c43dc7285253d0c1</td>\n",
       "      <td>2013-03-26 00:00:00</td>\n",
       "      <td>30885</td>\n",
       "      <td>0</td>\n",
       "      <td>AKL</td>\n",
       "      <td>...</td>\n",
       "      <td>AKLHKGSVO</td>\n",
       "      <td>XK</td>\n",
       "      <td>G</td>\n",
       "      <td>Y</td>\n",
       "      <td>2013-04-24 23:59:00</td>\n",
       "      <td>2013-04-25 16:06:31</td>\n",
       "      <td>1</td>\n",
       "      <td>2013</td>\n",
       "      <td>3</td>\n",
       "      <td>SYDA82546</td>\n",
       "    </tr>\n",
       "    <tr>\n",
       "      <th>4</th>\n",
       "      <td>2013-03-26 00:00:00</td>\n",
       "      <td>1A</td>\n",
       "      <td>AU</td>\n",
       "      <td>0f984b3bb6bd06661c95529bbd6193bc</td>\n",
       "      <td>36472c6dbaf7afec9136ac40364e2794</td>\n",
       "      <td>5ecf00fdcbcec761c43dc7285253d0c1</td>\n",
       "      <td>2013-03-26 00:00:00</td>\n",
       "      <td>30885</td>\n",
       "      <td>0</td>\n",
       "      <td>AKL</td>\n",
       "      <td>...</td>\n",
       "      <td>SVOHKGAKL</td>\n",
       "      <td>XK</td>\n",
       "      <td>G</td>\n",
       "      <td>Y</td>\n",
       "      <td>2013-05-14 20:15:00</td>\n",
       "      <td>2013-05-16 10:44:50</td>\n",
       "      <td>1</td>\n",
       "      <td>2013</td>\n",
       "      <td>3</td>\n",
       "      <td>SYDA82546</td>\n",
       "    </tr>\n",
       "    <tr>\n",
       "      <th>...</th>\n",
       "      <td>...</td>\n",
       "      <td>...</td>\n",
       "      <td>...</td>\n",
       "      <td>...</td>\n",
       "      <td>...</td>\n",
       "      <td>...</td>\n",
       "      <td>...</td>\n",
       "      <td>...</td>\n",
       "      <td>...</td>\n",
       "      <td>...</td>\n",
       "      <td>...</td>\n",
       "      <td>...</td>\n",
       "      <td>...</td>\n",
       "      <td>...</td>\n",
       "      <td>...</td>\n",
       "      <td>...</td>\n",
       "      <td>...</td>\n",
       "      <td>...</td>\n",
       "      <td>...</td>\n",
       "      <td>...</td>\n",
       "      <td>...</td>\n",
       "    </tr>\n",
       "    <tr>\n",
       "      <th>99995</th>\n",
       "      <td>2013-03-03 00:00:00</td>\n",
       "      <td>1G</td>\n",
       "      <td>FR</td>\n",
       "      <td>a17ff438d62736177e21cee453a8902c</td>\n",
       "      <td>f0181fdb07090669940ab0b77092dea7</td>\n",
       "      <td>c534700c8c6578655ea00d7d9056cde0</td>\n",
       "      <td>2013-02-28 00:00:00</td>\n",
       "      <td>11731</td>\n",
       "      <td>0</td>\n",
       "      <td>DEL</td>\n",
       "      <td>...</td>\n",
       "      <td>DELIXL</td>\n",
       "      <td>CH</td>\n",
       "      <td>N</td>\n",
       "      <td>Y</td>\n",
       "      <td>2013-05-02 05:40:00</td>\n",
       "      <td>2013-05-02 07:11:47</td>\n",
       "      <td>2</td>\n",
       "      <td>2013</td>\n",
       "      <td>3</td>\n",
       "      <td>NULL</td>\n",
       "    </tr>\n",
       "    <tr>\n",
       "      <th>99996</th>\n",
       "      <td>2013-03-05 00:00:00</td>\n",
       "      <td>1G</td>\n",
       "      <td>FR</td>\n",
       "      <td>a17ff438d62736177e21cee453a8902c</td>\n",
       "      <td>f0181fdb07090669940ab0b77092dea7</td>\n",
       "      <td>c534700c8c6578655ea00d7d9056cde0</td>\n",
       "      <td>2013-02-28 00:00:00</td>\n",
       "      <td>11731</td>\n",
       "      <td>0</td>\n",
       "      <td>DEL</td>\n",
       "      <td>...</td>\n",
       "      <td>DELIXL</td>\n",
       "      <td>CH</td>\n",
       "      <td>N</td>\n",
       "      <td>Y</td>\n",
       "      <td>2013-05-02 05:40:00</td>\n",
       "      <td>2013-05-02 07:11:47</td>\n",
       "      <td>-2</td>\n",
       "      <td>2013</td>\n",
       "      <td>3</td>\n",
       "      <td>NULL</td>\n",
       "    </tr>\n",
       "    <tr>\n",
       "      <th>99997</th>\n",
       "      <td>2013-03-05 00:00:00</td>\n",
       "      <td>1G</td>\n",
       "      <td>FR</td>\n",
       "      <td>a17ff438d62736177e21cee453a8902c</td>\n",
       "      <td>f0181fdb07090669940ab0b77092dea7</td>\n",
       "      <td>c534700c8c6578655ea00d7d9056cde0</td>\n",
       "      <td>2013-02-28 00:00:00</td>\n",
       "      <td>11731</td>\n",
       "      <td>0</td>\n",
       "      <td>DEL</td>\n",
       "      <td>...</td>\n",
       "      <td>IXLDEL</td>\n",
       "      <td>CH</td>\n",
       "      <td>Q</td>\n",
       "      <td>Y</td>\n",
       "      <td>2013-05-10 07:40:00</td>\n",
       "      <td>2013-05-10 09:11:47</td>\n",
       "      <td>-2</td>\n",
       "      <td>2013</td>\n",
       "      <td>3</td>\n",
       "      <td>NULL</td>\n",
       "    </tr>\n",
       "    <tr>\n",
       "      <th>99998</th>\n",
       "      <td>2013-03-20 00:00:00</td>\n",
       "      <td>1G</td>\n",
       "      <td>ZA</td>\n",
       "      <td>355368d5d743bd879313059478579059</td>\n",
       "      <td>a6dc7522954b518c8530ee2058ac946a</td>\n",
       "      <td>34ce3041cf21fe149b175c82dc991183</td>\n",
       "      <td>2013-03-20 00:00:00</td>\n",
       "      <td>4612</td>\n",
       "      <td>0</td>\n",
       "      <td>HLA</td>\n",
       "      <td>...</td>\n",
       "      <td>HLACPT</td>\n",
       "      <td>WX</td>\n",
       "      <td>O</td>\n",
       "      <td>Y</td>\n",
       "      <td>2013-06-14 14:55:00</td>\n",
       "      <td>2013-06-14 17:12:14</td>\n",
       "      <td>2</td>\n",
       "      <td>2013</td>\n",
       "      <td>3</td>\n",
       "      <td>NULL</td>\n",
       "    </tr>\n",
       "    <tr>\n",
       "      <th>99999</th>\n",
       "      <td>2013-03-20 00:00:00</td>\n",
       "      <td>1G</td>\n",
       "      <td>ZA</td>\n",
       "      <td>355368d5d743bd879313059478579059</td>\n",
       "      <td>a6dc7522954b518c8530ee2058ac946a</td>\n",
       "      <td>34ce3041cf21fe149b175c82dc991183</td>\n",
       "      <td>2013-03-20 00:00:00</td>\n",
       "      <td>4612</td>\n",
       "      <td>0</td>\n",
       "      <td>HLA</td>\n",
       "      <td>...</td>\n",
       "      <td>CPTHLA</td>\n",
       "      <td>WX</td>\n",
       "      <td>I</td>\n",
       "      <td>C</td>\n",
       "      <td>2013-06-17 17:30:00</td>\n",
       "      <td>2013-06-17 19:47:14</td>\n",
       "      <td>2</td>\n",
       "      <td>2013</td>\n",
       "      <td>3</td>\n",
       "      <td>NULL</td>\n",
       "    </tr>\n",
       "  </tbody>\n",
       "</table>\n",
       "<p>100000 rows × 38 columns</p>\n",
       "</div>"
      ],
      "text/plain": [
       "       act_date             source  pos_ctry  \\\n",
       "0      2013-03-05 00:00:00  1A      DE         \n",
       "1      2013-03-26 00:00:00  1A      US         \n",
       "2      2013-03-26 00:00:00  1A      US         \n",
       "3      2013-03-26 00:00:00  1A      AU         \n",
       "4      2013-03-26 00:00:00  1A      AU         \n",
       "...                    ...     ...       ...   \n",
       "99995  2013-03-03 00:00:00  1G      FR         \n",
       "99996  2013-03-05 00:00:00  1G      FR         \n",
       "99997  2013-03-05 00:00:00  1G      FR         \n",
       "99998  2013-03-20 00:00:00  1G      ZA         \n",
       "99999  2013-03-20 00:00:00  1G      ZA         \n",
       "\n",
       "                               pos_iata                         pos_oid    \\\n",
       "0      a68dd7ae953c8acfb187a1af2dcbe123  1a11ae49fcbf545fd2afc1a24d88d2b7   \n",
       "1      e612b9eeeee6f17f42d9b0d3b79e75ca  7437560d8f276d6d05eeb806d9e7edee   \n",
       "2      e612b9eeeee6f17f42d9b0d3b79e75ca  7437560d8f276d6d05eeb806d9e7edee   \n",
       "3      0f984b3bb6bd06661c95529bbd6193bc  36472c6dbaf7afec9136ac40364e2794   \n",
       "4      0f984b3bb6bd06661c95529bbd6193bc  36472c6dbaf7afec9136ac40364e2794   \n",
       "...                                 ...                               ...   \n",
       "99995  a17ff438d62736177e21cee453a8902c  f0181fdb07090669940ab0b77092dea7   \n",
       "99996  a17ff438d62736177e21cee453a8902c  f0181fdb07090669940ab0b77092dea7   \n",
       "99997  a17ff438d62736177e21cee453a8902c  f0181fdb07090669940ab0b77092dea7   \n",
       "99998  355368d5d743bd879313059478579059  a6dc7522954b518c8530ee2058ac946a   \n",
       "99999  355368d5d743bd879313059478579059  a6dc7522954b518c8530ee2058ac946a   \n",
       "\n",
       "                         rloc            cre_date             duration  \\\n",
       "0      ea65900e72d71f4626378e2ebd298267  2013-02-22 00:00:00      1708   \n",
       "1      737295a86982c941f1c2da9a46a14043  2013-03-26 00:00:00    135270   \n",
       "2      737295a86982c941f1c2da9a46a14043  2013-03-26 00:00:00    135270   \n",
       "3      5ecf00fdcbcec761c43dc7285253d0c1  2013-03-26 00:00:00     30885   \n",
       "4      5ecf00fdcbcec761c43dc7285253d0c1  2013-03-26 00:00:00     30885   \n",
       "...                                 ...                  ...       ...   \n",
       "99995  c534700c8c6578655ea00d7d9056cde0  2013-02-28 00:00:00     11731   \n",
       "99996  c534700c8c6578655ea00d7d9056cde0  2013-02-28 00:00:00     11731   \n",
       "99997  c534700c8c6578655ea00d7d9056cde0  2013-02-28 00:00:00     11731   \n",
       "99998  34ce3041cf21fe149b175c82dc991183  2013-03-20 00:00:00      4612   \n",
       "99999  34ce3041cf21fe149b175c82dc991183  2013-03-20 00:00:00      4612   \n",
       "\n",
       "       distance  dep_port  ...  route           carrier  bkg_class  cab_class  \\\n",
       "0             0  ZRH       ...  LHRZRH               VI  T          Y           \n",
       "1             0  SAL       ...  SALATLCLT            NV  L          Y           \n",
       "2             0  SAL       ...  CLTATLSAL            NV  U          Y           \n",
       "3             0  AKL       ...  AKLHKGSVO            XK  G          Y           \n",
       "4             0  AKL       ...  SVOHKGAKL            XK  G          Y           \n",
       "...         ...       ...  ...              ...     ...        ...        ...   \n",
       "99995         0  DEL       ...  DELIXL               CH  N          Y           \n",
       "99996         0  DEL       ...  DELIXL               CH  N          Y           \n",
       "99997         0  DEL       ...  IXLDEL               CH  Q          Y           \n",
       "99998         0  HLA       ...  HLACPT               WX  O          Y           \n",
       "99999         0  HLA       ...  CPTHLA               WX  I          C           \n",
       "\n",
       "       brd_time             off_time            pax  year month  oid        \n",
       "0      2013-03-07 08:50:00  2013-03-07 11:33:37  -1  2013     3  NULL       \n",
       "1      2013-04-12 13:04:00  2013-04-12 22:05:40   1  2013     3  NULL       \n",
       "2      2013-07-15 07:00:00  2013-07-15 11:34:51   1  2013     3  NULL       \n",
       "3      2013-04-24 23:59:00  2013-04-25 16:06:31   1  2013     3  SYDA82546  \n",
       "4      2013-05-14 20:15:00  2013-05-16 10:44:50   1  2013     3  SYDA82546  \n",
       "...                    ...                  ...  ..   ...   ...        ...  \n",
       "99995  2013-05-02 05:40:00  2013-05-02 07:11:47   2  2013     3  NULL       \n",
       "99996  2013-05-02 05:40:00  2013-05-02 07:11:47  -2  2013     3  NULL       \n",
       "99997  2013-05-10 07:40:00  2013-05-10 09:11:47  -2  2013     3  NULL       \n",
       "99998  2013-06-14 14:55:00  2013-06-14 17:12:14   2  2013     3  NULL       \n",
       "99999  2013-06-17 17:30:00  2013-06-17 19:47:14   2  2013     3  NULL       \n",
       "\n",
       "[100000 rows x 38 columns]"
      ]
     },
     "execution_count": 5,
     "metadata": {},
     "output_type": "execute_result"
    }
   ],
   "source": [
    "df"
   ]
  },
  {
   "cell_type": "code",
   "execution_count": 6,
   "id": "2e159b81",
   "metadata": {},
   "outputs": [
    {
     "name": "stdout",
     "output_type": "stream",
     "text": [
      "Index(['act_date           ', 'source', 'pos_ctry', 'pos_iata', 'pos_oid  ',\n",
      "       'rloc          ', 'cre_date           ', 'duration', 'distance',\n",
      "       'dep_port', 'dep_city', 'dep_ctry', 'arr_port', 'arr_city', 'arr_ctry',\n",
      "       'lst_port', 'lst_city', 'lst_ctry', 'brd_port', 'brd_city', 'brd_ctry',\n",
      "       'off_port', 'off_city', 'off_ctry', 'mkt_port', 'mkt_city', 'mkt_ctry',\n",
      "       'intl', 'route          ', 'carrier', 'bkg_class', 'cab_class',\n",
      "       'brd_time           ', 'off_time           ', 'pax', 'year', 'month',\n",
      "       'oid      '],\n",
      "      dtype='object')\n"
     ]
    }
   ],
   "source": [
    "print(df.columns)"
   ]
  },
  {
   "cell_type": "code",
   "execution_count": 50,
   "id": "a4477811",
   "metadata": {},
   "outputs": [],
   "source": [
    "df.columns = df.columns.str.replace(' ', '')"
   ]
  },
  {
   "cell_type": "code",
   "execution_count": 7,
   "id": "3ed4b5f1",
   "metadata": {},
   "outputs": [],
   "source": [
    "df.columns = df.columns.str.strip()"
   ]
  },
  {
   "cell_type": "code",
   "execution_count": 8,
   "id": "b1dee066",
   "metadata": {},
   "outputs": [
    {
     "name": "stdout",
     "output_type": "stream",
     "text": [
      "Index(['act_date', 'source', 'pos_ctry', 'pos_iata', 'pos_oid', 'rloc',\n",
      "       'cre_date', 'duration', 'distance', 'dep_port', 'dep_city', 'dep_ctry',\n",
      "       'arr_port', 'arr_city', 'arr_ctry', 'lst_port', 'lst_city', 'lst_ctry',\n",
      "       'brd_port', 'brd_city', 'brd_ctry', 'off_port', 'off_city', 'off_ctry',\n",
      "       'mkt_port', 'mkt_city', 'mkt_ctry', 'intl', 'route', 'carrier',\n",
      "       'bkg_class', 'cab_class', 'brd_time', 'off_time', 'pax', 'year',\n",
      "       'month', 'oid'],\n",
      "      dtype='object')\n"
     ]
    }
   ],
   "source": [
    "print(df.columns)"
   ]
  },
  {
   "cell_type": "markdown",
   "id": "7e5691db",
   "metadata": {},
   "source": [
    "### Sorting and getting top-10:\n",
    "\n",
    "* Two options to get the top-10. Using nlargest() method or sort_values(ascending=False).head() methods."
   ]
  },
  {
   "cell_type": "code",
   "execution_count": 12,
   "id": "5802ce34",
   "metadata": {},
   "outputs": [
    {
     "data": {
      "text/plain": [
       "arr_port\n",
       "LHR         1006\n",
       "MCO          861\n",
       "JFK          795\n",
       "LAX          761\n",
       "BKK          747\n",
       "LAS          732\n",
       "SFO          705\n",
       "ORD          686\n",
       "CDG          676\n",
       "DXB          587\n",
       "Name: pax, dtype: int64"
      ]
     },
     "execution_count": 12,
     "metadata": {},
     "output_type": "execute_result"
    }
   ],
   "source": [
    "df.groupby(\"arr_port\")[\"pax\"].sum().nlargest(10)"
   ]
  },
  {
   "cell_type": "code",
   "execution_count": 25,
   "id": "29378a8e",
   "metadata": {},
   "outputs": [
    {
     "data": {
      "text/plain": [
       "arr_port\n",
       "LHR         1006\n",
       "MCO          861\n",
       "JFK          795\n",
       "LAX          761\n",
       "BKK          747\n",
       "LAS          732\n",
       "SFO          705\n",
       "ORD          686\n",
       "CDG          676\n",
       "DXB          587\n",
       "Name: pax, dtype: int64"
      ]
     },
     "execution_count": 25,
     "metadata": {},
     "output_type": "execute_result"
    }
   ],
   "source": [
    "df.groupby(\"arr_port\")[\"pax\"].sum().sort_values(ascending=False).head(10)"
   ]
  },
  {
   "cell_type": "markdown",
   "id": "0ed3f653",
   "metadata": {},
   "source": [
    "### Filtering by 'year' column:\n",
    "\n",
    "* I found df.loc method on order to filter year column for a specific value.\n",
    "* I apply df.loc to the original data frame and then I assign the result to a new data frame."
   ]
  },
  {
   "cell_type": "code",
   "execution_count": 41,
   "id": "9d0104ef",
   "metadata": {},
   "outputs": [
    {
     "name": "stdout",
     "output_type": "stream",
     "text": [
      "0        2013\n",
      "1        2013\n",
      "2        2013\n",
      "3        2013\n",
      "4        2013\n",
      "         ... \n",
      "99995    2013\n",
      "99996    2013\n",
      "99997    2013\n",
      "99998    2013\n",
      "99999    2013\n",
      "Name: year, Length: 100000, dtype: int64\n"
     ]
    }
   ],
   "source": [
    "print (df['year'])\n",
    "#print (df['year'] == 2013)\n",
    "#df.loc[df['year'] == 2013]"
   ]
  },
  {
   "cell_type": "code",
   "execution_count": 43,
   "id": "243f82fc",
   "metadata": {},
   "outputs": [
    {
     "data": {
      "text/plain": [
       "arr_port\n",
       "LHR         1006\n",
       "MCO          861\n",
       "JFK          795\n",
       "LAX          761\n",
       "BKK          747\n",
       "LAS          732\n",
       "SFO          705\n",
       "ORD          686\n",
       "CDG          676\n",
       "DXB          587\n",
       "Name: pax, dtype: int64"
      ]
     },
     "execution_count": 43,
     "metadata": {},
     "output_type": "execute_result"
    }
   ],
   "source": [
    "df_filtered = df.loc[df['year'] == 2013]\n",
    "df_filtered.groupby(\"arr_port\")[\"pax\"].sum().sort_values(ascending=False).head(10)"
   ]
  },
  {
   "cell_type": "code",
   "execution_count": null,
   "id": "d9042971",
   "metadata": {},
   "outputs": [],
   "source": []
  }
 ],
 "metadata": {
  "kernelspec": {
   "display_name": "Python 3",
   "language": "python",
   "name": "python3"
  },
  "language_info": {
   "codemirror_mode": {
    "name": "ipython",
    "version": 3
   },
   "file_extension": ".py",
   "mimetype": "text/x-python",
   "name": "python",
   "nbconvert_exporter": "python",
   "pygments_lexer": "ipython3",
   "version": "3.8.8"
  }
 },
 "nbformat": 4,
 "nbformat_minor": 5
}
