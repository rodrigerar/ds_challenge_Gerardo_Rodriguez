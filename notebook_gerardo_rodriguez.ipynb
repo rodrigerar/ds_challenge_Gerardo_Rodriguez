{
 "cells": [
  {
   "cell_type": "markdown",
   "id": "9f028a5d",
   "metadata": {},
   "source": [
    "### Data Science Challenge from Gerardo Rodriguez"
   ]
  },
  {
   "cell_type": "code",
   "execution_count": 1,
   "id": "d64031dd",
   "metadata": {},
   "outputs": [
    {
     "name": "stdout",
     "output_type": "stream",
     "text": [
      "total 8323320\r\n",
      "-rw-r--r--  1 rodrigerar  staff          77 Feb  2 15:25 README.md\r\n",
      "-rw-r--r--  1 rodrigerar  staff          72 Feb  2 15:26 Untitled.ipynb\r\n",
      "-rw-r--r--@ 1 rodrigerar  staff  4244874509 Feb  2 15:26 bookings.csv\r\n",
      "-rw-r--r--  1 rodrigerar  staff         729 Feb  2 15:27 notebook_gerardo_rodriguez.ipynb\r\n"
     ]
    }
   ],
   "source": [
    "!ls -ltr"
   ]
  },
  {
   "cell_type": "code",
   "execution_count": 2,
   "id": "d747f647",
   "metadata": {},
   "outputs": [
    {
     "name": "stdout",
     "output_type": "stream",
     "text": [
      "act_date           ^source^pos_ctry^pos_iata^pos_oid  ^rloc          ^cre_date           ^duration^distance^dep_port^dep_city^dep_ctry^arr_port^arr_city^arr_ctry^lst_port^lst_city^lst_ctry^brd_port^brd_city^brd_ctry^off_port^off_city^off_ctry^mkt_port^mkt_city^mkt_ctry^intl^route          ^carrier^bkg_class^cab_class^brd_time           ^off_time           ^pax^year^month^oid      \r\n",
      "2013-03-05 00:00:00^1A    ^DE      ^a68dd7ae953c8acfb187a1af2dcbe123^1a11ae49fcbf545fd2afc1a24d88d2b7^ea65900e72d71f4626378e2ebd298267^2013-02-22 00:00:00^1708^0^ZRH     ^ZRH     ^CH      ^LHR     ^LON     ^GB      ^ZRH     ^ZRH     ^CH      ^LHR     ^LON     ^GB      ^ZRH     ^ZRH     ^CH      ^LHRZRH  ^LONZRH  ^CHGB    ^1^LHRZRH         ^VI^T        ^Y        ^2013-03-07 08:50:00^2013-03-07 11:33:37^-1^2013^3^NULL     \r\n",
      "2013-03-26 00:00:00^1A    ^US      ^e612b9eeeee6f17f42d9b0d3b79e75ca^7437560d8f276d6d05eeb806d9e7edee^737295a86982c941f1c2da9a46a14043^2013-03-26 00:00:00^135270^0^SAL     ^SAL     ^SV      ^CLT     ^CLT     ^US      ^SAL     ^SAL     ^SV      ^SAL     ^SAL     ^SV      ^CLT     ^CLT     ^US      ^CLTSAL  ^CLTSAL  ^SVUS    ^1^SALATLCLT      ^NV^L        ^Y        ^2013-04-12 13:04:00^2013-04-12 22:05:40^1^2013^3^NULL     \r\n",
      "2013-03-26 00:00:00^1A    ^US      ^e612b9eeeee6f17f42d9b0d3b79e75ca^7437560d8f276d6d05eeb806d9e7edee^737295a86982c941f1c2da9a46a14043^2013-03-26 00:00:00^135270^0^SAL     ^SAL     ^SV      ^CLT     ^CLT     ^US      ^SAL     ^SAL     ^SV      ^CLT     ^CLT     ^US      ^SAL     ^SAL     ^SV      ^CLTSAL  ^CLTSAL  ^SVUS    ^1^CLTATLSAL      ^NV^U        ^Y        ^2013-07-15 07:00:00^2013-07-15 11:34:51^1^2013^3^NULL     \r\n",
      "2013-03-26 00:00:00^1A    ^AU      ^0f984b3bb6bd06661c95529bbd6193bc^36472c6dbaf7afec9136ac40364e2794^5ecf00fdcbcec761c43dc7285253d0c1^2013-03-26 00:00:00^30885^0^AKL     ^AKL     ^NZ      ^SVO     ^MOW     ^RU      ^AKL     ^AKL     ^NZ      ^AKL     ^AKL     ^NZ      ^SVO     ^MOW     ^RU      ^AKLSVO  ^AKLMOW  ^NZRU    ^1^AKLHKGSVO      ^XK^G        ^Y        ^2013-04-24 23:59:00^2013-04-25 16:06:31^1^2013^3^SYDA82546\r\n",
      "2013-03-26 00:00:00^1A    ^AU      ^0f984b3bb6bd06661c95529bbd6193bc^36472c6dbaf7afec9136ac40364e2794^5ecf00fdcbcec761c43dc7285253d0c1^2013-03-26 00:00:00^30885^0^AKL     ^AKL     ^NZ      ^SVO     ^MOW     ^RU      ^AKL     ^AKL     ^NZ      ^SVO     ^MOW     ^RU      ^AKL     ^AKL     ^NZ      ^AKLSVO  ^AKLMOW  ^NZRU    ^1^SVOHKGAKL      ^XK^G        ^Y        ^2013-05-14 20:15:00^2013-05-16 10:44:50^1^2013^3^SYDA82546\r\n",
      "2013-03-20 00:00:00^1V    ^US      ^0283592e45e392871f7e14b1e22a9aaf^2d0f8e7e1bb792625d2f34f221bc38f1^d54708298686de200f8270e7c637af5e^2013-03-20 00:00:00^5923^0^DEN     ^DEN     ^US      ^LGA     ^NYC     ^US      ^DEN     ^DEN     ^US      ^DEN     ^DEN     ^US      ^LGA     ^NYC     ^US      ^DENLGA  ^DENNYC  ^USUS    ^0^DENLGA         ^FK^W        ^Y        ^2013-04-07 10:23:00^2013-04-07 16:14:24^1^2013^3^NULL     \r\n",
      "2013-03-20 00:00:00^1V    ^US      ^0283592e45e392871f7e14b1e22a9aaf^2d0f8e7e1bb792625d2f34f221bc38f1^d54708298686de200f8270e7c637af5e^2013-03-20 00:00:00^5923^0^DEN     ^DEN     ^US      ^LGA     ^NYC     ^US      ^DEN     ^DEN     ^US      ^LGA     ^NYC     ^US      ^DEN     ^DEN     ^US      ^DENLGA  ^DENNYC  ^USUS    ^0^LGADEN         ^FK^K        ^Y        ^2013-04-11 11:15:00^2013-04-11 13:06:24^1^2013^3^NULL     \r\n",
      "2013-03-25 00:00:00^1V    ^JP      ^5af045902bd23cab579915611d99e1e0^5073861d8597467c33596bfe16f23c56^a37584d1485cb35991e4ff1a2ba92262^2013-03-25 00:00:00^8371^60^NRT     ^TYO     ^JP      ^SIN     ^SIN     ^SG      ^HND     ^TYO     ^JP      ^NRT     ^TYO     ^JP      ^SIN     ^SIN     ^SG      ^NRTSIN  ^SINTYO  ^JPSG    ^1^NRTSIN         ^XR^Q        ^Y        ^2013-04-14 11:05:00^2013-04-14 17:10:56^2^2013^3^NULL     \r\n",
      "2013-03-25 00:00:00^1V    ^JP      ^5af045902bd23cab579915611d99e1e0^5073861d8597467c33596bfe16f23c56^a37584d1485cb35991e4ff1a2ba92262^2013-03-25 00:00:00^8371^60^NRT     ^TYO     ^JP      ^SIN     ^SIN     ^SG      ^HND     ^TYO     ^JP      ^SIN     ^SIN     ^SG      ^PEN     ^PEN     ^MY      ^PENSIN  ^PENSIN  ^MYSG    ^1^SINPEN         ^WS^Y        ^Y        ^2013-04-16 15:45:00^2013-04-16 17:15:29^2^2013^3^NULL     \r\n"
     ]
    }
   ],
   "source": [
    "! head -10 bookings.csv"
   ]
  },
  {
   "cell_type": "code",
   "execution_count": 3,
   "id": "9bee1805",
   "metadata": {},
   "outputs": [
    {
     "name": "stdout",
     "output_type": "stream",
     "text": [
      "2013-05-14 00:00:00^1A    ^IN      ^9e586aade06c70687736accbe5e98737^1032cd50f5b60ddef3e3f3f8e4285972^0fae61de5c249aaa28c2d573b589becf^2013-05-14 00:00:00^4003^2968^POM     ^POM     ^PG      ^MEL     ^MEL     ^AU      ^ADL     ^ADL     ^AU      ^MEL     ^MEL     ^AU      ^ADL     ^ADL     ^AU      ^ADLMEL  ^ADLMEL  ^AUAU    ^0^MELADL         ^GK^V        ^Y        ^2013-07-12 07:10:00^2013-07-12 08:13:15^2^2013^5^DELVS319B\r\n",
      "2013-05-28 00:00:00^1A    ^US      ^000a63dddc771356a09b2df81781d933^dda0cc56cd8e7e238cef9601d4ed7038^1df256f97e81f128fce7397753ce4a4f^2013-05-28 00:00:00^6388^0^MEM     ^MEM     ^US      ^LAS     ^LAS     ^US      ^MEM     ^MEM     ^US      ^MEM     ^MEM     ^US      ^LAS     ^LAS     ^US      ^LASMEM  ^LASMEM  ^USUS    ^0^MEMLAS         ^NV^L        ^Y        ^2013-11-03 08:30:00^2013-11-03 09:58:22^2^2013^5^NULL     \r\n",
      "2013-05-28 00:00:00^1A    ^US      ^000a63dddc771356a09b2df81781d933^dda0cc56cd8e7e238cef9601d4ed7038^1df256f97e81f128fce7397753ce4a4f^2013-05-28 00:00:00^6388^0^MEM     ^MEM     ^US      ^LAS     ^LAS     ^US      ^MEM     ^MEM     ^US      ^LAS     ^LAS     ^US      ^MEM     ^MEM     ^US      ^LASMEM  ^LASMEM  ^USUS    ^0^LASMEM         ^NV^L        ^Y        ^2013-11-07 13:30:00^2013-11-07 18:58:22^2^2013^5^NULL     \r\n",
      "2013-05-14 00:00:00^1A    ^LK      ^1a5585bef21f0bf8dc865a87843635f9^6ff8fd087f94799d7aed903683384775^3b339797f7eca14c24e8b7565da822c0^2013-05-14 00:00:00^13203^0^CMB     ^CMB     ^LK      ^MAA     ^MAA     ^IN      ^CMB     ^CMB     ^LK      ^CMB     ^CMB     ^LK      ^MAA     ^MAA     ^IN      ^CMBMAA  ^CMBMAA  ^INLK    ^1^CMBMAA         ^FV^V        ^Y        ^2013-05-15 13:35:00^2013-05-15 15:08:39^1^2013^5^NULL     \r\n",
      "2013-05-14 00:00:00^1A    ^LK      ^1a5585bef21f0bf8dc865a87843635f9^6ff8fd087f94799d7aed903683384775^3b339797f7eca14c24e8b7565da822c0^2013-05-14 00:00:00^13203^0^CMB     ^CMB     ^LK      ^MAA     ^MAA     ^IN      ^CMB     ^CMB     ^LK      ^MAA     ^MAA     ^IN      ^CMB     ^CMB     ^LK      ^CMBMAA  ^CMBMAA  ^INLK    ^1^MAACMB         ^FV^V        ^Y        ^2013-05-24 16:05:00^2013-05-24 17:38:39^1^2013^5^NULL     \r\n",
      "2013-05-18 00:00:00^1A    ^LK      ^1a5585bef21f0bf8dc865a87843635f9^6ff8fd087f94799d7aed903683384775^3b339797f7eca14c24e8b7565da822c0^2013-05-14 00:00:00^13203^0^CMB     ^CMB     ^LK      ^MAA     ^MAA     ^IN      ^CMB     ^CMB     ^LK      ^MAA     ^MAA     ^IN      ^CMB     ^CMB     ^LK      ^CMBMAA  ^CMBMAA  ^INLK    ^1^MAACMB         ^FV^V        ^Y        ^2013-05-24 16:05:00^2013-05-24 17:38:39^-1^2013^5^NULL     \r\n",
      "2013-05-18 00:00:00^1A    ^LK      ^1a5585bef21f0bf8dc865a87843635f9^6ff8fd087f94799d7aed903683384775^3b339797f7eca14c24e8b7565da822c0^2013-05-14 00:00:00^6003^0^CMB     ^CMB     ^LK      ^MAA     ^MAA     ^IN      ^CMB     ^CMB     ^LK      ^MAA     ^MAA     ^IN      ^CMB     ^CMB     ^LK      ^CMBMAA  ^CMBMAA  ^INLK    ^1^MAACMB         ^FV^V        ^Y        ^2013-05-19 16:05:00^2013-05-19 17:38:39^1^2013^5^NULL     \r\n",
      "2013-05-28 00:00:00^1A    ^US      ^07e98d2fd3cd4b737266b99727f7faa8^e8741eaf2fa2f71f931475d18fa72096^2b22597bdad931843c3b1d5219836e07^2013-05-28 00:00:00^328^1865^AUS     ^AUS     ^US      ^RDU     ^RDU     ^US      ^RDU     ^RDU     ^US      ^AUS     ^AUS     ^US      ^RDU     ^RDU     ^US      ^AUSRDU  ^AUSRDU  ^USUS    ^0^AUSDFWRDU      ^KK^Q        ^Y        ^2013-07-12 08:35:00^2013-07-12 15:03:14^1^2013^5^SEAEX38AA\r\n",
      "2013-05-28 00:00:00^1A    ^FR      ^e2679367673d50f1ee085127d8a00eba^5f26f53ca29672815e0ee3bd93a2b0e4^4eb40315a7263131ae17712cd505b62a^2013-05-28 00:00:00^588^0^TLS     ^TLS     ^FR      ^ORY     ^PAR     ^FR      ^TLS     ^TLS     ^FR      ^TLS     ^TLS     ^FR      ^ORY     ^PAR     ^FR      ^ORYTLS  ^PARTLS  ^FRFR    ^0^TLSORY         ^KP^S        ^Y        ^2013-06-04 10:50:00^2013-06-04 12:18:20^1^2013^5^LYSSR210Z\r\n",
      "2013-05-28 00:00:00^1A    ^FR      ^e2679367673d50f1ee085127d8a00eba^5f26f53ca29672815e0ee3bd93a2b0e4^4eb40315a7263131ae17712cd505b62a^2013-05-28 00:00:00^588^0^TLS     ^TLS     ^FR      ^ORY     ^PAR     ^FR      ^TLS     ^TLS     ^FR      ^ORY     ^PAR     ^FR      ^TLS     ^TLS     ^FR      ^ORYTLS  ^PARTLS  ^FRFR    ^0^ORYTLS         ^KP^S        ^Y        ^2013-06-04 19:10:00^2013-06-04 20:38:20^1^2013^5^LYSSR210Z\r\n"
     ]
    }
   ],
   "source": [
    "!tail -10 bookings.csv"
   ]
  },
  {
   "cell_type": "code",
   "execution_count": 4,
   "id": "702c834e",
   "metadata": {},
   "outputs": [
    {
     "name": "stdout",
     "output_type": "stream",
     "text": [
      " 10000011\r\n"
     ]
    }
   ],
   "source": [
    "!cat bookings.csv | wc -l"
   ]
  },
  {
   "cell_type": "code",
   "execution_count": 5,
   "id": "d8f55a94",
   "metadata": {},
   "outputs": [
    {
     "name": "stdout",
     "output_type": "stream",
     "text": [
      "bzcat: bookings.csv is not a bzip2 file.\r\n",
      "       0\r\n"
     ]
    }
   ],
   "source": [
    "!bzcat bookings.csv | wc -l"
   ]
  },
  {
   "cell_type": "code",
   "execution_count": 6,
   "id": "c30c32bd",
   "metadata": {},
   "outputs": [],
   "source": [
    "import bz2"
   ]
  },
  {
   "cell_type": "code",
   "execution_count": 8,
   "id": "cfb0ca76",
   "metadata": {},
   "outputs": [],
   "source": [
    "file = 'bookings.csv.bz2'"
   ]
  },
  {
   "cell_type": "code",
   "execution_count": 11,
   "id": "d76f1546",
   "metadata": {},
   "outputs": [],
   "source": [
    "booking_file = bz2.open(file, \"r\")"
   ]
  },
  {
   "cell_type": "code",
   "execution_count": 12,
   "id": "e294d3ae",
   "metadata": {},
   "outputs": [
    {
     "name": "stdout",
     "output_type": "stream",
     "text": [
      "<bz2.BZ2File object at 0x7fc1a5265d30>\n"
     ]
    }
   ],
   "source": [
    "print (booking_file)"
   ]
  },
  {
   "cell_type": "code",
   "execution_count": 17,
   "id": "c379e5b3",
   "metadata": {},
   "outputs": [
    {
     "name": "stdout",
     "output_type": "stream",
     "text": [
      "b'43:13^1^2013^1^NULL     \\n'\n",
      "b'2013-01-16 00:00:00^1V    ^US      ^aa9e6619f78306c410c668fe62c1457f^891d0c8de2cd83892471ba7cbafd9e3e^66a4033e9112f1b09193261b2f006da7^2013-01-12 00:00:00^4824^0^SJC     ^SJC     ^US      ^PIT     ^PIT     ^US      ^SJC     ^SJC     ^US      ^SJC     ^SJC     ^US      ^PIT     ^PIT     ^US      ^PITSJC  ^PITSJC  ^USUS    ^0^SJCDENPIT      ^FK^S        ^Y        ^2013-01-20 11:19:00^2013-01-20 23:17:05^-1^2013^1^NULL     \\n'\n",
      "b'2013-01-16 00:00:00^1V    ^US      ^aa9e6619f78306c410c668fe62c1457f^891d0c8de2cd83892471ba7cbafd9e3e^66a4033e9112f1b09193261b2f006da7^2013-01-12 00:00:00^4480^1521^DEN     ^DEN     ^US      ^PIT     ^PIT     ^US      ^SJC     ^SJC     ^US      ^DEN     ^DEN     ^US      ^PIT     ^PIT     ^US      ^DENPIT  ^DENPIT  ^USUS    ^0^DENPIT         ^FK^S        ^Y        ^2013-01-20 18:03:00^2013-01-20 23:17:05^1^2013^1^NULL     \\n'\n",
      "b'2013-01-17 00:00:00^1V    ^US      ^aa9e6619f78306c410c668fe62c1457f^891d0c8de2cd83892471ba7cbafd9e3e^66a4033e9112f1b09193261b2f006da7^2013-01-12 00:00:00^4480^1521^DEN     ^DEN     ^US      ^PIT     ^PIT     ^US      ^SJC     ^SJC     ^US      ^DEN     ^DEN     ^US      ^PIT     ^PIT     ^US      ^DENPIT  ^DENPIT  ^USUS    ^0^DENPIT         ^FK^S        ^Y        ^2013-01-20 18:03:00^2013-01-20 23:17:05^-1^2013^1^NULL     \\n'\n",
      "b'2013-01-17 00:00:00^1V    ^US      ^aa9e6619f78306c410c668fe62c1457f^891d0c8de2cd83892471ba7cbafd9e3e^66a4033e9112f1b09193261b2f006da7^2013-01-12 00:00:00^4480^1521^DEN     ^DEN     ^US      ^PIT     ^PIT     ^US      ^SJC     ^SJC     ^US      ^PIT     ^PIT     ^US      ^SJC     ^SJC     ^US      ^PITSJC  ^PITSJC  ^USUS    ^0^PITIAHSJC      ^FK^T        ^Y        ^2013-01-23 14:30:00^2013-01-23 19:43:13^-1^2013^1^NULL     \\n'\n",
      "b'2013-01-30 00:00:00^1V    ^US      ^77db56eb35cd6b1adb4c2ec23ea0490f^6b73555c9fb5a655d0dfa8a8ae4a00d0^b3e4c90e64f08ce1bd1f9bd46a60b42b^2013-01-30 00:00:00^1762^0^CLE     ^CLE     ^US      ^LAS     ^LAS     ^US      ^CLE     ^CLE     ^US      ^CLE     ^CLE     ^US      ^LAS     ^LAS     ^US      ^CLELAS  ^CLELAS  ^USUS    ^0^CLELAS         ^FK^Q        ^Y        ^2013-02-07 16:50:00^2013-02-07 18:04:39^1^2013^1^NULL     \\n'\n",
      "b'2013-01-30 00:00:00^1V    ^US      ^77db56eb35cd6b1adb4c2ec23ea0490f^6b73555c9fb5a655d0dfa8a8ae4a00d0^b3e4c90e64f08ce1bd1f9bd46a60b42b^2013-01-30 00:00:00^1762^0^CLE     ^CLE     ^US      ^LAS     ^LAS     ^US      ^CLE     ^CLE     ^US      ^LAS     ^LAS     ^US      ^CLE     ^CLE     ^US      ^CLELAS  ^CLELAS  ^USUS    ^0^LASCLE         ^FK^Q        ^Y        ^2013-02-08 14:58:00^2013-02-08 22:12:39^1^2013^1^NULL     \\n'\n",
      "b'2013-01-12 00:00:00^1V    ^CA      ^a6275f6fc9a6e1d7e58fa222b3f56c09^a4ad0c23a05a1117442fbf85a3f35ce8^99db8d6636a194cbb2d5cd12745cae3a^2013-01-12 00:00:00^792^10554^YYZ     ^YTO     ^CA      ^PEK     ^BJS     ^CN      ^PEK     ^BJS     ^CN      ^YYZ     ^YTO     ^CA      ^PEK     ^BJS     ^CN      ^PEKYYZ  ^BJSYTO  ^CACN    ^1^YYZPEK         ^KM^N        ^Y        ^2013-01-12 14:30:00^2013-01-13 16:42:59^1^2013^1^NULL     \\n'\n",
      "b'2013-01-02 00:00:00^1V    ^US      ^4209094016ac5a209a3779bc039c9b5c^f6ce1977b0754a10ffcff1a01878f530^62f489eb8bbd47d51f1a78403a01ed2c^2013-01-02 00:00:00^1829^0^BWI     ^WAS     ^US      ^BNA     ^BNA     ^US      ^BWI     ^WAS     ^US      ^BWI     ^WAS     ^US      ^BNA     ^BNA     ^US      ^BNABWI  ^BNAWAS  ^USUS    ^0^BWIBNA         ^HX^W        ^Y        ^2013-01-09 13:35:00^2013-01-09 14:29:34^1^2013^1^NULL     \\n'\n"
     ]
    }
   ],
   "source": [
    "count = 0\n",
    "for line in booking_file:\n",
    "    count += 1\n",
    "    if count < 10:\n",
    "        print (line)\n",
    "    else:\n",
    "        break"
   ]
  },
  {
   "cell_type": "code",
   "execution_count": 18,
   "id": "bb767003",
   "metadata": {},
   "outputs": [
    {
     "name": "stdout",
     "output_type": "stream",
     "text": [
      "3683019\n"
     ]
    }
   ],
   "source": [
    "count = 0\n",
    "for line in booking_file:\n",
    "    count += 1\n",
    "print (count)"
   ]
  }
 ],
 "metadata": {
  "kernelspec": {
   "display_name": "Python 3",
   "language": "python",
   "name": "python3"
  },
  "language_info": {
   "codemirror_mode": {
    "name": "ipython",
    "version": 3
   },
   "file_extension": ".py",
   "mimetype": "text/x-python",
   "name": "python",
   "nbconvert_exporter": "python",
   "pygments_lexer": "ipython3",
   "version": "3.8.8"
  }
 },
 "nbformat": 4,
 "nbformat_minor": 5
}
